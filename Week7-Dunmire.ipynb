{
 "cells": [
  {
   "cell_type": "code",
   "execution_count": 2,
   "metadata": {
    "collapsed": false
   },
   "outputs": [
    {
     "name": "stdout",
     "output_type": "stream",
     "text": [
      "The autoreload extension is already loaded. To reload it, use:\n",
      "  %reload_ext autoreload\n"
     ]
    }
   ],
   "source": [
    "#Reload changes -> always run this\n",
    "%load_ext autoreload\n",
    "%autoreload 2"
   ]
  },
  {
   "cell_type": "markdown",
   "metadata": {},
   "source": [
    "__==Undirected toy network dataset==__\n",
    "\n",
    "In an undirected network all links are symmetric, \n",
    "i.e., for a pair of nodes 'A' and 'B,' both of the links:\n",
    "\n",
    "A -> B and B -> A\n",
    "\n",
    "will exist. \n",
    "\n",
    "The toy data are available in a sparse (stripes) representation:\n",
    "\n",
    "(node) \\t (dictionary of links)\n",
    "\n",
    "on AWS/Dropbox via the url:\n",
    "\n",
    "s3://ucb-mids-mls-networks/undirected_toy.txt\n",
    "On under the Data Subfolder for HW7 on Dropbox with the same file name. \n",
    "The Data folder is in: https://db.tt/Kxu48mL1)\n",
    "\n",
    "In the dictionary, target nodes are keys, link weights are values \n",
    "(here, all weights are 1, i.e., the network is unweighted).\n"
   ]
  },
  {
   "cell_type": "markdown",
   "metadata": {},
   "source": [
    "__=Directed toy network dataset==__\n",
    "\n",
    "In a directed network all links are not necessarily symmetric, \n",
    "i.e., for a pair of nodes 'A' and 'B,' it is possible for only one of:\n",
    "\n",
    "A -> B or B -> A\n",
    "\n",
    "to exist. \n",
    "\n",
    "These toy data are available in a sparse (stripes) representation:\n",
    "\n",
    "(node) \\t (dictionary of links)\n",
    "\n",
    "on AWS/Dropbox via the url:\n",
    "\n",
    "s3://ucb-mids-mls-networks/directed_toy.txt\n",
    "On under the Data Subfolder for HW7 on Dropbox with the same file name\n",
    "\n",
    "In the dictionary, target nodes are keys, link weights are values \n",
    "(here, all weights are 1, i.e., the network is unweighted).\n"
   ]
  },
  {
   "cell_type": "markdown",
   "metadata": {},
   "source": [
    "## 7.0\n",
    "\n",
    "===HW 7.0: Shortest path graph distances (toy networks)===\n",
    "\n",
    "In this part of your assignment you will develop the base of your code for the week.\n",
    "\n",
    "Write MRJob classes to find shortest path graph distances, \n",
    "as described in the lectures. In addition to finding the distances, \n",
    "your code should also output a distance-minimizing path between the source and target.\n",
    "Work locally for this part of the assignment, and use \n",
    "both of the undirected and directed toy networks.\n",
    "\n",
    "To proof you code's function, run the following jobs\n",
    "\n",
    "- shortest path in the undirected network from node 1 to node 4\n",
    "Solution: 1,5,4 \n",
    "\n",
    "- shortest path in the directed network from node 1 to node 5\n",
    "Solution: 1,2,4,5\n",
    "\n",
    "and report your output---make sure it is correct!\n"
   ]
  },
  {
   "cell_type": "code",
   "execution_count": 2,
   "metadata": {
    "collapsed": false
   },
   "outputs": [
    {
     "name": "stdout",
     "output_type": "stream",
     "text": [
      "Overwriting init_data.py\n"
     ]
    }
   ],
   "source": [
    "%%writefile init_data.py\n",
    "\n",
    "from sys import maxint\n",
    "from mrjob.job import MRJob\n",
    "from mrjob.step import MRStep\n",
    "\n",
    "class initGraphJob(MRJob):\n",
    "    \n",
    "    def configure_options(self):\n",
    "        super(initGraphJob, self).configure_options()\n",
    "        self.add_passthrough_option('--startNode', default = '1')\n",
    "    \n",
    "    def mapper(self, _, node):\n",
    "        nodeID, links = node.split('\\t') #split on input tab\n",
    "        links = eval(links) #make a dictionary\n",
    "        \n",
    "        if nodeID == self.options.startNode: \n",
    "            yield nodeID, (links.keys(), 0, 'Q', [nodeID]) #sets up start node\n",
    "        else:\n",
    "            yield nodeID, (links.keys(), maxint, 'U', [])\n",
    "            \n",
    "    def steps(self):\n",
    "        return [MRStep(mapper = self.mapper)]\n",
    "\n",
    "if __name__ == \"__main__\":\n",
    "    initGraphJob.run()"
   ]
  },
  {
   "cell_type": "code",
   "execution_count": 3,
   "metadata": {
    "collapsed": false
   },
   "outputs": [
    {
     "name": "stderr",
     "output_type": "stream",
     "text": [
      "WARNING:mrjob.runner:\n",
      "WARNING:mrjob.runner:PLEASE NOTE: Starting in mrjob v0.5.0, protocols will be strict by default. It's recommended you run your job with --strict-protocols or set up mrjob.conf as described at https://pythonhosted.org/mrjob/whats-new.html#ready-for-strict-protocols\n",
      "WARNING:mrjob.runner:\n"
     ]
    }
   ],
   "source": [
    "#Runs job and outputs results to newfile, requires changing parameters and probably want to change\n",
    "from init_data import initGraphJob\n",
    "\n",
    "mr_job = initGraphJob(args = ['directed_toy.txt'])\n",
    "\n",
    "with open('newgraph.txt', 'w+') as myfile:\n",
    "    with mr_job.make_runner() as runner:\n",
    "        runner.run()\n",
    "        for line in runner.stream_output():\n",
    "            myfile.write(line)"
   ]
  },
  {
   "cell_type": "code",
   "execution_count": 4,
   "metadata": {
    "collapsed": false
   },
   "outputs": [
    {
     "name": "stdout",
     "output_type": "stream",
     "text": [
      "Overwriting shortestPathJob.py\n"
     ]
    }
   ],
   "source": [
    "%%writefile shortestPathJob.py\n",
    "\n",
    "from mrjob.job import MRJob\n",
    "from mrjob.step import MRStep\n",
    "import sys\n",
    "\n",
    "class ShortestPathJob(MRJob):\n",
    "    \n",
    "    def mapper(self, _, line):\n",
    "        newline = line.strip().split('\\t')\n",
    "        \n",
    "        node = eval(newline[0])\n",
    "        \n",
    "        data = eval(newline[1])\n",
    "        neighbors = (data[0])\n",
    "        distance = int(data[1])\n",
    "        label = data[2]\n",
    "        path = data[3]\n",
    "        \n",
    "        if label == 'Q':\n",
    "            for neighbor in neighbors:\n",
    "                newPath = list(path)\n",
    "                newPath.append(neighbor)\n",
    "                yield neighbor, [None, distance + 1, 'Q', newPath]\n",
    "            yield node, [neighbors, distance, 'V', path]\n",
    "        else:\n",
    "            yield node, [neighbors, distance, label, path]\n",
    "     \n",
    "\n",
    "    \n",
    "    def reducer(self, key, values):\n",
    "        #By default assume a node is unvisited with an empty list of neighbors, makes updating below easier\n",
    "        neighbors = [] \n",
    "        distance = sys.maxint\n",
    "        label = 'U'\n",
    "        path = []\n",
    "        \n",
    "        for value in values:\n",
    "            \n",
    "            temp_neighbors = value[0]\n",
    "            temp_distance = value[1]\n",
    "            temp_label = value[2]\n",
    "            temp_path = value[3]\n",
    "            \n",
    "            if temp_label == 'V':\n",
    "                neighbors = temp_neighbors\n",
    "                distance = temp_distance\n",
    "                label = temp_label\n",
    "                path = temp_path\n",
    "                break\n",
    "            \n",
    "            elif temp_label == 'Q':\n",
    "                label = temp_label\n",
    "                distance = temp_distance\n",
    "                path = temp_path\n",
    "                \n",
    "            elif temp_label == 'U':\n",
    "                neighbors = temp_neighbors\n",
    "                \n",
    "        yield key, [neighbors, distance, label, path]\n",
    "        \n",
    "        \n",
    "            \n",
    "if __name__ == '__main__':\n",
    "    ShortestPathJob.run()"
   ]
  },
  {
   "cell_type": "code",
   "execution_count": 6,
   "metadata": {
    "collapsed": false,
    "scrolled": true
   },
   "outputs": [
    {
     "name": "stderr",
     "output_type": "stream",
     "text": [
      "WARNING:mrjob.runner:\n",
      "WARNING:mrjob.runner:PLEASE NOTE: Starting in mrjob v0.5.0, protocols will be strict by default. It's recommended you run your job with --strict-protocols or set up mrjob.conf as described at https://pythonhosted.org/mrjob/whats-new.html#ready-for-strict-protocols\n",
      "WARNING:mrjob.runner:\n"
     ]
    },
    {
     "name": "stdout",
     "output_type": "stream",
     "text": [
      "('1', [['2', '6'], 0, 'V', [1]])\n",
      "('2', [['1', '3', '4'], 1, 'V', [1, '2']])\n",
      "('3', [['2', '4'], 2, 'Q', [1, '2', '3']])\n",
      "('4', [['2', '5'], 2, 'Q', [1, '2', '4']])\n",
      "('5', [['1', '2', '4'], 9223372036854775807, 'U', []])\n",
      "('6', [[], 1, 'V', [1, '6']])\n"
     ]
    }
   ],
   "source": [
    "from shortestPathJob import ShortestPathJob\n",
    "mr_job = ShortestPathJob(args = ['newgraph.txt'])\n",
    "\n",
    "with mr_job.make_runner() as runner:\n",
    "    runner.run()\n",
    "    for line in runner.stream_output():\n",
    "        print mr_job.parse_output_line(line)"
   ]
  },
  {
   "cell_type": "markdown",
   "metadata": {
    "collapsed": true
   },
   "source": [
    "Example of first mapper for reference\n",
    "('2', [None, 1, 'Q', [1, '2']])\n",
    "('6', [None, 1, 'Q', [1, '6']])\n",
    "('1', [['2', '6'], 0, 'V', [1]])\n",
    "('2', [['1', '3', '4'], 9223372036854775807, 'U', []])\n",
    "('3', [['2', '4'], 9223372036854775807, 'U', []])\n",
    "('4', [['2', '5'], 9223372036854775807, 'U', []])\n",
    "('5', [['1', '2', '4'], 9223372036854775807, 'U', []])"
   ]
  },
  {
   "cell_type": "code",
   "execution_count": 5,
   "metadata": {
    "collapsed": false
   },
   "outputs": [
    {
     "name": "stderr",
     "output_type": "stream",
     "text": [
      "WARNING:mrjob.runner:\n",
      "WARNING:mrjob.runner:PLEASE NOTE: Starting in mrjob v0.5.0, protocols will be strict by default. It's recommended you run your job with --strict-protocols or set up mrjob.conf as described at https://pythonhosted.org/mrjob/whats-new.html#ready-for-strict-protocols\n",
      "WARNING:mrjob.runner:\n",
      "WARNING:mrjob.runner:\n",
      "WARNING:mrjob.runner:PLEASE NOTE: Starting in mrjob v0.5.0, protocols will be strict by default. It's recommended you run your job with --strict-protocols or set up mrjob.conf as described at https://pythonhosted.org/mrjob/whats-new.html#ready-for-strict-protocols\n",
      "WARNING:mrjob.runner:\n",
      "WARNING:mrjob.runner:\n",
      "WARNING:mrjob.runner:PLEASE NOTE: Starting in mrjob v0.5.0, protocols will be strict by default. It's recommended you run your job with --strict-protocols or set up mrjob.conf as described at https://pythonhosted.org/mrjob/whats-new.html#ready-for-strict-protocols\n",
      "WARNING:mrjob.runner:\n",
      "WARNING:mrjob.runner:\n",
      "WARNING:mrjob.runner:PLEASE NOTE: Starting in mrjob v0.5.0, protocols will be strict by default. It's recommended you run your job with --strict-protocols or set up mrjob.conf as described at https://pythonhosted.org/mrjob/whats-new.html#ready-for-strict-protocols\n",
      "WARNING:mrjob.runner:\n"
     ]
    },
    {
     "name": "stdout",
     "output_type": "stream",
     "text": [
      "Shortest path in undirected Graph:\n",
      "Path: ['1', '5', '4'], with distance 2"
     ]
    },
    {
     "name": "stderr",
     "output_type": "stream",
     "text": [
      "WARNING:mrjob.runner:\n",
      "WARNING:mrjob.runner:PLEASE NOTE: Starting in mrjob v0.5.0, protocols will be strict by default. It's recommended you run your job with --strict-protocols or set up mrjob.conf as described at https://pythonhosted.org/mrjob/whats-new.html#ready-for-strict-protocols\n",
      "WARNING:mrjob.runner:\n",
      "WARNING:mrjob.runner:\n",
      "WARNING:mrjob.runner:PLEASE NOTE: Starting in mrjob v0.5.0, protocols will be strict by default. It's recommended you run your job with --strict-protocols or set up mrjob.conf as described at https://pythonhosted.org/mrjob/whats-new.html#ready-for-strict-protocols\n",
      "WARNING:mrjob.runner:\n",
      "WARNING:mrjob.runner:\n",
      "WARNING:mrjob.runner:PLEASE NOTE: Starting in mrjob v0.5.0, protocols will be strict by default. It's recommended you run your job with --strict-protocols or set up mrjob.conf as described at https://pythonhosted.org/mrjob/whats-new.html#ready-for-strict-protocols\n",
      "WARNING:mrjob.runner:\n",
      "WARNING:mrjob.runner:\n",
      "WARNING:mrjob.runner:PLEASE NOTE: Starting in mrjob v0.5.0, protocols will be strict by default. It's recommended you run your job with --strict-protocols or set up mrjob.conf as described at https://pythonhosted.org/mrjob/whats-new.html#ready-for-strict-protocols\n",
      "WARNING:mrjob.runner:\n",
      "WARNING:mrjob.runner:\n",
      "WARNING:mrjob.runner:PLEASE NOTE: Starting in mrjob v0.5.0, protocols will be strict by default. It's recommended you run your job with --strict-protocols or set up mrjob.conf as described at https://pythonhosted.org/mrjob/whats-new.html#ready-for-strict-protocols\n",
      "WARNING:mrjob.runner:\n"
     ]
    },
    {
     "name": "stdout",
     "output_type": "stream",
     "text": [
      "\n",
      "Shortest path in directed Graph:\n",
      "Path: ['1', '2', '4', '5'], with distance 3\n"
     ]
    }
   ],
   "source": [
    "#Driver for iterations\n",
    "import os\n",
    "from init_data import initGraphJob\n",
    "from shortestPathJob import ShortestPathJob\n",
    "\n",
    "def findShortestPath(filename, startNode, endNode):\n",
    "    \n",
    "    mr_job_init = initGraphJob(args = [filename, '--startNode', startNode]) #insert text file here to change \n",
    "\n",
    "    with open('working-graph.txt', 'w+') as myfile:\n",
    "        with mr_job_init.make_runner() as runner:\n",
    "            runner.run()\n",
    "            for line in runner.stream_output():\n",
    "                myfile.write(line)\n",
    "\n",
    "\n",
    "    while True:\n",
    "        with open('newFile.txt', 'w+') as myfile:\n",
    "            mr_job = ShortestPathJob(args = ['working-graph.txt'])\n",
    "            with mr_job.make_runner() as runner:\n",
    "                runner.run()\n",
    "                for line in runner.stream_output():\n",
    "                    output = mr_job.parse_output_line(line)\n",
    "                    myfile.write(line)\n",
    "                    if output[0] == endNode and output[1][2] == \"V\":\n",
    "                        return (output[1][3], output[1][1]) #path\n",
    "                        break\n",
    "            \n",
    "        os.rename('newFile.txt', 'working-graph.txt')\n",
    "\n",
    "print 'Shortest path in undirected Graph:'\n",
    "results = findShortestPath('undirected_toy.txt', '1', '4')\n",
    "print 'Path: ' + str(results[0]) + ', with distance ' + str(results[1])\n",
    "\n",
    "print 'Shortest path in directed Graph:'\n",
    "results = findShortestPath('directed_toy.txt', '1', '5')\n",
    "print 'Path: ' + str(results[0]) + ', with distance ' + str(results[1])\n",
    "\n"
   ]
  },
  {
   "cell_type": "markdown",
   "metadata": {},
   "source": [
    "For the __directed graph__ from the output we get: \n",
    "\n",
    "[1, \"2\", \"4\", \"5\"] as the path from 1 to 5\n",
    "\n",
    "For the __undirected graph__ from the output we get:\n",
    "\n",
    "[1, \"5\", \"4\"] as the graph from 1 to 4"
   ]
  },
  {
   "cell_type": "markdown",
   "metadata": {
    "collapsed": true
   },
   "source": [
    "## ==Main dataset 1: NLTK synonyms==\n",
    "\n",
    "In the next part of this assignment you will explore a network derived from\n",
    "the NLTK synonym database used for evaluation in HW 5. At a high level, this\n",
    "network is undirected, defined so that there exists link between two nodes/words \n",
    "if the pair or words are a synonym. These data may be found at the location:\n",
    "\n",
    "s3://ucb-mids-mls-networks/synNet/synNet.txt\n",
    "s3://ucb-mids-mls-networks/synNet/indices.txt\n",
    "On under the Data Subfolder for HW7 on Dropbox with the same file names\n",
    "\n",
    "where synNet.txt contains a sparse representation of the network:\n",
    "\n",
    "(index) \\t (dictionary of links)\n",
    "\n",
    "in indexed form, and indices.txt contains a lookup list\n",
    "\n",
    "(word) \\t (index)\n",
    "\n",
    "of indices and words. This network is small enough for you to explore and run\n",
    "scripts locally, but will also be good for a systems test (for later) on AWS.\n",
    "\n",
    "In the dictionary, target nodes are keys, link weights are values \n",
    "(here, all weights are 1, i.e., the network is unweighted).\n"
   ]
  },
  {
   "cell_type": "markdown",
   "metadata": {},
   "source": [
    "## ===HW 7.1: Exploratory data analysis (NLTK synonyms)===\n",
    "\n",
    "Using MRJob, explore the synonyms network data.\n",
    "Consider plotting the degree distribution (does it follow a power law?),\n",
    "and determine some of the key features, like:\n",
    "\n",
    "number of nodes, \n",
    "\n",
    "number links,\n",
    "\n",
    "or the average degree (i.e., the average number of links per node),\n",
    "etc...\n",
    "\n",
    "As you develop your code, please be sure to run it locally first (though on the whole dataset). \n",
    "Once you have gotten you code to run locally, deploy it on AWS as a systems test\n",
    "in preparation for our next dataset (which will require AWS).\n"
   ]
  },
  {
   "cell_type": "code",
   "execution_count": 61,
   "metadata": {
    "collapsed": false
   },
   "outputs": [
    {
     "name": "stdout",
     "output_type": "stream",
     "text": [
      "Overwriting numberNodesMR.py\n"
     ]
    }
   ],
   "source": [
    "%%writefile numberNodesMR.py\n",
    "\n",
    "from mrjob.job import MRJob\n",
    "from mrjob.step import MRStep\n",
    "\n",
    "class NumberNodes(MRJob):\n",
    "    \n",
    "    def mapper1(self, _, line):\n",
    "        newLine = line.split('\\t')\n",
    "        \n",
    "        node = newLine[0]\n",
    "        neighbors = eval(newLine[1])\n",
    "        yield node, 1\n",
    "        for neighbor in neighbors.keys():\n",
    "            yield neighbor, 1\n",
    "    \n",
    "    def reducer1(self, key, values):\n",
    "        yield key, 1\n",
    "    \n",
    "    def mapper2(self, key, values):\n",
    "        yield None, 1\n",
    "    \n",
    "    def reducer2(self, key, values):\n",
    "        total = sum(values)\n",
    "        yield None, total\n",
    "    \n",
    "        \n",
    "    def steps(self):\n",
    "        return [MRStep(mapper = self.mapper1, reducer = self.reducer1),\n",
    "               MRStep(mapper = self.mapper2, reducer = self.reducer2)]\n",
    "    \n",
    "if __name__ == \"__main__\":\n",
    "    NumberNodes.run()"
   ]
  },
  {
   "cell_type": "code",
   "execution_count": 63,
   "metadata": {
    "collapsed": false
   },
   "outputs": [
    {
     "name": "stderr",
     "output_type": "stream",
     "text": [
      "WARNING:mrjob.runner:\n",
      "WARNING:mrjob.runner:PLEASE NOTE: Starting in mrjob v0.5.0, protocols will be strict by default. It's recommended you run your job with --strict-protocols or set up mrjob.conf as described at https://pythonhosted.org/mrjob/whats-new.html#ready-for-strict-protocols\n",
      "WARNING:mrjob.runner:\n"
     ]
    },
    {
     "name": "stdout",
     "output_type": "stream",
     "text": [
      "Number of nodes in undirected_toy.txt\n",
      "(None, 5)\n"
     ]
    }
   ],
   "source": [
    "from numberNodesMR import NumberNodes\n",
    "\n",
    "filename = 'undirected_toy.txt'\n",
    "\n",
    "mr_job = NumberNodes(args = [filename])\n",
    "\n",
    "with mr_job.make_runner() as runner:\n",
    "    runner.run()\n",
    "    print \"Number of nodes in \" + filename\n",
    "    for line in runner.stream_output():\n",
    "        print mr_job.parse_output_line(line)"
   ]
  },
  {
   "cell_type": "code",
   "execution_count": 3,
   "metadata": {
    "collapsed": false
   },
   "outputs": [
    {
     "name": "stdout",
     "output_type": "stream",
     "text": [
      "Writing numberLinks.py\n"
     ]
    }
   ],
   "source": [
    "%%writefile numberLinks.py\n",
    "\n",
    "from mrjob.job import MRJob\n",
    "from mrjob.step import MRStep\n",
    "\n",
    "class NumberLinksJob(MRJob):\n",
    "    \n",
    "    def mapper(self, _, line):\n",
    "        newLine = line.strip().split('\\t')\n",
    "        \n",
    "        node = newLine[0]\n",
    "        neighbors = eval(newLine[1])\n",
    "        if len(neighbors) != 0:\n",
    "            for neighbor in neighbors.keys():\n",
    "                yield None, 1\n",
    "    \n",
    "    def reducer(self, key, values):\n",
    "        total = sum(values)\n",
    "        yield None, total\n",
    "\n",
    "if __name__ == \"__main__\":\n",
    "    NumberLinksJob.run()"
   ]
  },
  {
   "cell_type": "code",
   "execution_count": 5,
   "metadata": {
    "collapsed": false
   },
   "outputs": [
    {
     "name": "stderr",
     "output_type": "stream",
     "text": [
      "WARNING:mrjob.runner:\n",
      "WARNING:mrjob.runner:PLEASE NOTE: Starting in mrjob v0.5.0, protocols will be strict by default. It's recommended you run your job with --strict-protocols or set up mrjob.conf as described at https://pythonhosted.org/mrjob/whats-new.html#ready-for-strict-protocols\n",
      "WARNING:mrjob.runner:\n"
     ]
    },
    {
     "name": "stdout",
     "output_type": "stream",
     "text": [
      "Number of links in directed_toy.txt\n",
      "(None, 12)\n"
     ]
    }
   ],
   "source": [
    "from numberLinks import NumberLinksJob\n",
    "\n",
    "filename = 'directed_toy.txt'\n",
    "\n",
    "mr_job = NumberLinksJob(args = [filename])\n",
    "\n",
    "with mr_job.make_runner() as runner:\n",
    "    runner.run()\n",
    "    print \"Number of links in \" + filename\n",
    "    for line in runner.stream_output():\n",
    "        print mr_job.parse_output_line(line)"
   ]
  },
  {
   "cell_type": "code",
   "execution_count": 2,
   "metadata": {
    "collapsed": true
   },
   "outputs": [],
   "source": [
    "## For average links unsure about how to handle directed graph"
   ]
  },
  {
   "cell_type": "code",
   "execution_count": 7,
   "metadata": {
    "collapsed": false
   },
   "outputs": [
    {
     "name": "stderr",
     "output_type": "stream",
     "text": [
      "WARNING:mrjob.runner:\n",
      "WARNING:mrjob.runner:PLEASE NOTE: Starting in mrjob v0.5.0, protocols will be strict by default. It's recommended you run your job with --strict-protocols or set up mrjob.conf as described at https://pythonhosted.org/mrjob/whats-new.html#ready-for-strict-protocols\n",
      "WARNING:mrjob.runner:\n"
     ]
    },
    {
     "name": "stdout",
     "output_type": "stream",
     "text": [
      "Number of Nodes in synNet/synNet.txt\n",
      "(None, 8271)"
     ]
    },
    {
     "name": "stderr",
     "output_type": "stream",
     "text": [
      "WARNING:mrjob.runner:\n",
      "WARNING:mrjob.runner:PLEASE NOTE: Starting in mrjob v0.5.0, protocols will be strict by default. It's recommended you run your job with --strict-protocols or set up mrjob.conf as described at https://pythonhosted.org/mrjob/whats-new.html#ready-for-strict-protocols\n",
      "WARNING:mrjob.runner:\n"
     ]
    },
    {
     "name": "stdout",
     "output_type": "stream",
     "text": [
      "\n",
      "Number of Links in synNet/synNet.txt\n",
      "(None, 61134)\n"
     ]
    }
   ],
   "source": [
    "from numberNodesMR import NumberNodes\n",
    "from numberLinks import NumberLinksJob\n",
    "\n",
    "filenames = ['synNet/synNet.txt']\n",
    "\n",
    "for filename in filenames:\n",
    "    mr_job = NumberNodes(args = [filename])\n",
    "    \n",
    "    print \"Number of Nodes in \" + filename\n",
    "    with mr_job.make_runner() as runner:\n",
    "        runner.run()\n",
    "        for line in runner.stream_output():\n",
    "            print mr_job.parse_output_line(line)\n",
    "    \n",
    "    mr_job2 = NumberLinksJob(args = [filename])\n",
    "    \n",
    "    \n",
    "    print \"Number of Links in \" + filename\n",
    "    with mr_job2.make_runner() as runner:\n",
    "        runner.run()\n",
    "        for line in runner.stream_output():\n",
    "            print mr_job2.parse_output_line(line)\n",
    "\n"
   ]
  },
  {
   "cell_type": "code",
   "execution_count": null,
   "metadata": {
    "collapsed": true
   },
   "outputs": [],
   "source": [
    "#To run on AWS use the following command:\n",
    "#change the .py file and input and output directories to match the job\n",
    "# python numberLinks.py -r emr \\\n",
    "# s3://hw7nltk/synNet.txt \\ \n",
    "# --conf-path mrjob.conf \\\n",
    "# --output-dir=s3://dunmireg/HW7/numberLinksNLTK \\ \n",
    "# --no-output \\\n",
    "# --no-strict-protocol"
   ]
  },
  {
   "cell_type": "markdown",
   "metadata": {
    "collapsed": true
   },
   "source": [
    "Confirmed numbers run on EMR match run locally"
   ]
  },
  {
   "cell_type": "markdown",
   "metadata": {},
   "source": [
    "## ===HW 7.2: Shortest path graph distances (NLTK synonyms)===\n",
    "\n",
    "Write (reuse your code from 7.0) an MRJob class to find shortest path graph distances, \n",
    "and apply it to the NLTK synonyms network dataset. \n",
    "\n",
    "Proof your code's function by running the job:\n",
    "\n",
    "- shortest path starting at \"walk\" (index=7827) and ending at \"make\" (index=536),\n",
    "\n",
    "and showing you code's output. Once again, your output should include the path and the distance.\n",
    "\n",
    "As you develop your code, please be sure to run it locally first (though on the whole dataset). \n",
    "Once you have gotten you code to run locally, deploy it on AWS as a systems test\n",
    "in preparation for our next dataset (which will require AWS)."
   ]
  },
  {
   "cell_type": "code",
   "execution_count": 6,
   "metadata": {
    "collapsed": false
   },
   "outputs": [
    {
     "name": "stderr",
     "output_type": "stream",
     "text": [
      "WARNING:mrjob.runner:\n",
      "WARNING:mrjob.runner:PLEASE NOTE: Starting in mrjob v0.5.0, protocols will be strict by default. It's recommended you run your job with --strict-protocols or set up mrjob.conf as described at https://pythonhosted.org/mrjob/whats-new.html#ready-for-strict-protocols\n",
      "WARNING:mrjob.runner:\n",
      "WARNING:mrjob.runner:\n",
      "WARNING:mrjob.runner:PLEASE NOTE: Starting in mrjob v0.5.0, protocols will be strict by default. It's recommended you run your job with --strict-protocols or set up mrjob.conf as described at https://pythonhosted.org/mrjob/whats-new.html#ready-for-strict-protocols\n",
      "WARNING:mrjob.runner:\n",
      "WARNING:mrjob.runner:\n",
      "WARNING:mrjob.runner:PLEASE NOTE: Starting in mrjob v0.5.0, protocols will be strict by default. It's recommended you run your job with --strict-protocols or set up mrjob.conf as described at https://pythonhosted.org/mrjob/whats-new.html#ready-for-strict-protocols\n",
      "WARNING:mrjob.runner:\n",
      "WARNING:mrjob.runner:\n",
      "WARNING:mrjob.runner:PLEASE NOTE: Starting in mrjob v0.5.0, protocols will be strict by default. It's recommended you run your job with --strict-protocols or set up mrjob.conf as described at https://pythonhosted.org/mrjob/whats-new.html#ready-for-strict-protocols\n",
      "WARNING:mrjob.runner:\n",
      "WARNING:mrjob.runner:\n",
      "WARNING:mrjob.runner:PLEASE NOTE: Starting in mrjob v0.5.0, protocols will be strict by default. It's recommended you run your job with --strict-protocols or set up mrjob.conf as described at https://pythonhosted.org/mrjob/whats-new.html#ready-for-strict-protocols\n",
      "WARNING:mrjob.runner:\n"
     ]
    },
    {
     "name": "stdout",
     "output_type": "stream",
     "text": [
      "Path: ['7827', '4655', '631', '536'], with distance 3\n"
     ]
    }
   ],
   "source": [
    "results = findShortestPath('synNet/synNet.txt', '7827', '536')\n",
    "print 'Path: ' + str(results[0]) + ', with distance ' + str(results[1])"
   ]
  },
  {
   "cell_type": "code",
   "execution_count": 3,
   "metadata": {
    "collapsed": false
   },
   "outputs": [],
   "source": [
    "from init_data import initGraphJob\n",
    "from shortestPathJob import ShortestPathJob\n",
    "\n",
    "def findShortestPath2(filename, startNode, endNode, clusterID):\n",
    "    \n",
    "    counter = 0\n",
    "    \n",
    "    mr_job_init = initGraphJob(args = [filename, '--startNode', startNode,\n",
    "                                      '--no-strict-protocols', '-r', 'emr', \n",
    "                                      '--emr-job-flow-id', clusterID,\n",
    "                                      '--output-dir', 's3://dunmireg/HW7/output' + str(counter),\n",
    "                                      '--no-output']) \n",
    "  \n",
    "\n",
    "    with mr_job_init.make_runner() as runner:\n",
    "        runner.run()\n",
    "\n",
    "\n",
    "    iterate = True\n",
    "    while iterate:\n",
    "        counter += 1\n",
    "        mr_job = ShortestPathJob(args = ['s3://dunmireg/HW7/output' + str(counter - 1) + '/', \n",
    "                                        '--no-strict-protocols', '-r', 'emr',\n",
    "                                        '--emr-job-flow-id', clusterID,\n",
    "                                        '--output-dir', 's3://dunmireg/HW7/output' + str(counter),\n",
    "                                        '--no-output'])\n",
    "        with mr_job.make_runner() as runner:\n",
    "            runner.run()\n",
    "            for line in runner.stream_output():\n",
    "                output = mr_job.parse_output_line(line)\n",
    "                if output[0] == endNode and output[1][2] == \"V\":\n",
    "                    print \"The path is: \" + str(output[1][3])\n",
    "                    print \"In a distance of: \" + str(output[1][1]) #path\n",
    "                    iterate = False\n",
    "                    break\n"
   ]
  },
  {
   "cell_type": "code",
   "execution_count": 4,
   "metadata": {
    "collapsed": false
   },
   "outputs": [
    {
     "name": "stdout",
     "output_type": "stream",
     "text": [
      "creating new scratch bucket mrjob-d58d9fd7143d64f6\n",
      "using s3://mrjob-d58d9fd7143d64f6/tmp/ as our scratch dir on S3\n",
      "Creating persistent job flow to run several jobs in...\n",
      "creating tmp directory /var/folders/tx/cr7tg62d7rdd750f_czjczfm0000gn/T/no_script.dunmireg.20160309.131415.076030\n",
      "writing master bootstrap script to /var/folders/tx/cr7tg62d7rdd750f_czjczfm0000gn/T/no_script.dunmireg.20160309.131415.076030/b.py\n",
      "creating S3 bucket 'mrjob-d58d9fd7143d64f6' to use as scratch space\n",
      "Copying non-input files into s3://mrjob-d58d9fd7143d64f6/tmp/no_script.dunmireg.20160309.131415.076030/files/\n",
      "Waiting 5.0s for S3 eventual consistency\n",
      "Creating Elastic MapReduce job flow\n",
      "Can't access IAM API, trying default instance profile: EMR_EC2_DefaultRole\n",
      "Can't access IAM API, trying default service role: EMR_DefaultRole\n",
      "Job flow created with ID: j-15ZNE1DJBYI7U\n",
      "j-15ZNE1DJBYI7U\n"
     ]
    }
   ],
   "source": [
    "!python -m mrjob.tools.emr.create_job_flow '--conf-path' 'mrjob.conf' #need to add configuration file here"
   ]
  },
  {
   "cell_type": "code",
   "execution_count": 5,
   "metadata": {
    "collapsed": false
   },
   "outputs": [
    {
     "name": "stderr",
     "output_type": "stream",
     "text": [
      "WARNING:mrjob.conf:Got unexpected keyword arguments: ssh_tunnel\n",
      "WARNING:mrjob.conf:Got unexpected keyword arguments: ssh_tunnel\n",
      "WARNING:mrjob.conf:Got unexpected keyword arguments: ssh_tunnel\n",
      "WARNING:mrjob.conf:Got unexpected keyword arguments: ssh_tunnel\n",
      "WARNING:mrjob.conf:Got unexpected keyword arguments: ssh_tunnel\n"
     ]
    },
    {
     "name": "stdout",
     "output_type": "stream",
     "text": [
      "The path is: ['1', '2', '4', '5']\n",
      "In a distance of: 3\n"
     ]
    }
   ],
   "source": [
    "#infinite loop problem\n",
    "findShortestPath2('s3://dunmireg/Input/directed_toy.txt', '1', '5', 'j-15ZNE1DJBYI7U')\n",
    "# results = findShortestPath('synNet/synNet.txt', '7827', '536')\n",
    "# print 'Path: ' + str(results[0]) + ', with distance ' + str(results[1])"
   ]
  },
  {
   "cell_type": "markdown",
   "metadata": {},
   "source": [
    "# _Still to complete_"
   ]
  },
  {
   "cell_type": "markdown",
   "metadata": {},
   "source": [
    "## ==Main dataset 2: English Wikipedia==\n",
    "\n",
    "For the remainder of this assignment you will explore the English Wikipedia hyperlink network.\n",
    "The dataset is built from the Sept. 2015 XML snapshot of English Wikipedia.\n",
    "For this directed network, a link between articles: \n",
    "\n",
    "A -> B\n",
    "\n",
    "is defined by the existence of a hyperlink in A pointing to B.\n",
    "This network also exists in the indexed format:\n",
    "\n",
    "Data: s3://ucb-mids-mls-networks/wikipedia/all-pages-indexed-out.txt\n",
    "Data: s3://ucb-mids-mls-networks/wikipedia/all-pages-indexed-in.txt\n",
    "Data: s3://ucb-mids-mls-networks/wikipedia/indices.txt\n",
    "On under the Data Subfolder for HW7 on Dropbox with the same file names\n",
    "\n",
    "but has an index with more detailed data:\n",
    "\n",
    "(article name) \\t (index) \\t (in degree) \\t (out degree)\n",
    "\n",
    "In the dictionary, target nodes are keys, link weights are values .\n",
    "Here, a weight indicates the number of time a page links to another.\n",
    "However, for the sake of this assignment, treat this an unweighted network,\n",
    "and set all weights to 1 upon data input.\n"
   ]
  },
  {
   "cell_type": "markdown",
   "metadata": {},
   "source": [
    "## ===HW 7.3: Exploratory data analysis (Wikipedia)===\n",
    "\n",
    "Using MRJob, explore the Wikipedia network data on the AWS cloud. Reuse your code from HW 7.1---does is scale well? \n",
    "Be cautioned that Wikipedia is a directed network, where links are not symmetric. \n",
    "So, even though a node may be linked to, it will not appear as a primary record itself if it has no out-links. \n",
    "This means that you may have to ADJUST your code (depending on its design). \n",
    "To be sure of your code's functionality in this context, run a systems test on the directed_toy.txt network.\n"
   ]
  },
  {
   "cell_type": "code",
   "execution_count": null,
   "metadata": {
    "collapsed": true
   },
   "outputs": [],
   "source": [
    "#To run on AWS use the following command:\n",
    "#change the .py file and input and output directories to match the job\n",
    "# python numberNodesMR.py -r emr \\\n",
    "# s3://ucb-mids-mls-networks/wikipedia/all-pages-indexed-out.txt \\\n",
    "# --conf-path mrjob.conf \\\n",
    "# --output-dir=s3://dunmireg/HW7/numberNodesWiki \\ \n",
    "# --no-output \\\n",
    "# --no-strict-protocol"
   ]
  },
  {
   "cell_type": "markdown",
   "metadata": {},
   "source": [
    "__15,192,277 Nodes__"
   ]
  },
  {
   "cell_type": "code",
   "execution_count": null,
   "metadata": {
    "collapsed": true
   },
   "outputs": [],
   "source": [
    "#To run on AWS use the following command:\n",
    "#change the .py file and input and output directories to match the job\n",
    "# python numberLinks.py -r emr \\\n",
    "# s3://ucb-mids-mls-networks/wikipedia/all-pages-indexed-out.txt \\\n",
    "# --conf-path mrjob.conf \\\n",
    "# --output-dir=s3://dunmireg/HW7/numberLinksWiki \\ \n",
    "# --no-output \\\n",
    "# --no-strict-protocol"
   ]
  },
  {
   "cell_type": "markdown",
   "metadata": {},
   "source": [
    "__142,114,057 Links__"
   ]
  },
  {
   "cell_type": "code",
   "execution_count": null,
   "metadata": {
    "collapsed": true
   },
   "outputs": [],
   "source": []
  }
 ],
 "metadata": {
  "kernelspec": {
   "display_name": "Python 2",
   "language": "python",
   "name": "python2"
  },
  "language_info": {
   "codemirror_mode": {
    "name": "ipython",
    "version": 2
   },
   "file_extension": ".py",
   "mimetype": "text/x-python",
   "name": "python",
   "nbconvert_exporter": "python",
   "pygments_lexer": "ipython2",
   "version": "2.7.10"
  }
 },
 "nbformat": 4,
 "nbformat_minor": 0
}
