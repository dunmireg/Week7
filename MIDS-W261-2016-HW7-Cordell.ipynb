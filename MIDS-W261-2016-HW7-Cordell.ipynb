{
 "cells": [
  {
   "cell_type": "markdown",
   "metadata": {},
   "source": [
    "# MIDS W261 HW7"
   ]
  },
  {
   "cell_type": "markdown",
   "metadata": {},
   "source": [
    "## Undirected toy network dataset\n",
    "\n",
    "In an undirected network all links are symmetric, \n",
    "i.e., for a pair of nodes 'A' and 'B,' both of the links:\n",
    "\n",
    "    A -> B and B -> A\n",
    "\n",
    "will exist. \n",
    "\n",
    "The toy data are available in a sparse (stripes) representation:\n",
    "\n",
    "    (node) \\t (dictionary of links)\n",
    "\n",
    "on AWS/Dropbox via the url:\n",
    "\n",
    "s3://ucb-mids-mls-networks/undirected_toy.txt\n",
    "On under the Data Subfolder for HW7 on Dropbox with the same file name. \n",
    "The Data folder is in: https://db.tt/Kxu48mL1)\n",
    "\n",
    "In the dictionary, target nodes are keys, link weights are values \n",
    "(here, all weights are 1, i.e., the network is unweighted).\n",
    "\n",
    "\n",
    "## Directed toy network dataset\n",
    "\n",
    "In a directed network all links are not necessarily symmetric, \n",
    "i.e., for a pair of nodes 'A' and 'B,' it is possible for only one of:\n",
    "\n",
    "    A -> B or B -> A\n",
    "\n",
    "to exist. \n",
    "\n",
    "These toy data are available in a sparse (stripes) representation:\n",
    "\n",
    "    (node) \\t (dictionary of links)\n",
    "\n",
    "on AWS/Dropbox via the url:\n",
    "\n",
    "s3://ucb-mids-mls-networks/directed_toy.txt\n",
    "On under the Data Subfolder for HW7 on Dropbox with the same file name\n",
    "\n",
    "In the dictionary, target nodes are keys, link weights are values \n",
    "(here, all weights are 1, i.e., the network is unweighted)."
   ]
  },
  {
   "cell_type": "markdown",
   "metadata": {},
   "source": [
    "## HW 7.0: Shortest path graph distances (toy networks)\n",
    "\n",
    "In this part of your assignment you will develop the base of your code for the week.\n",
    "\n",
    "Write MRJob classes to find shortest path graph distances, \n",
    "as described in the lectures. In addition to finding the distances, \n",
    "your code should also output a distance-minimizing path between the source and target.\n",
    "Work locally for this part of the assignment, and use \n",
    "both of the undirected and directed toy networks.\n",
    "\n",
    "To proof you code's function, run the following jobs\n",
    "\n",
    "- shortest path in the undirected network from node 1 to node 4\n",
    "Solution: 1,5,4. NOTE: There is another shortest path also (HINT: 1->5->4)! Either will suffice (you will find this also in the remaining problems. E.g., 7.2 and 7.4.\n",
    " \n",
    "\n",
    "- shortest path in the directed network from node 1 to node 5\n",
    "Solution: 1,2,4,5\n",
    "\n",
    "and report your output---make sure it is correct!"
   ]
  },
  {
   "cell_type": "markdown",
   "metadata": {},
   "source": [
    "Undirected Graph Data\n",
    "\n",
    "    1\t{'2': 1,'5': 1}\n",
    "    2\t{'1': 1,'3': 1,'4': 1,'5': 1}\n",
    "    3\t{'2': 1, '4': 1}\n",
    "    4\t{'2': 1,'3': 1,'5': 1}\n",
    "    5\t{'1': 1, '2': 1, '4': 1}\n"
   ]
  },
  {
   "cell_type": "code",
   "execution_count": 2,
   "metadata": {
    "collapsed": false
   },
   "outputs": [
    {
     "name": "stdout",
     "output_type": "stream",
     "text": [
      "The autoreload extension is already loaded. To reload it, use:\n",
      "  %reload_ext autoreload\n"
     ]
    }
   ],
   "source": [
    "# Jupyter requires this for MRJob to reload classes properly\n",
    "%load_ext autoreload\n",
    "%autoreload 2\n",
    "%matplotlib inline"
   ]
  },
  {
   "cell_type": "code",
   "execution_count": 71,
   "metadata": {
    "collapsed": false
   },
   "outputs": [
    {
     "name": "stdout",
     "output_type": "stream",
     "text": [
      "Overwriting MrJobGraph70.py\n"
     ]
    }
   ],
   "source": [
    "%%writefile MrJobGraph70.py\n",
    "from mrjob.job import MRJob\n",
    "from mrjob.step import MRStep\n",
    "from sys import maxint\n",
    "import re\n",
    "#\n",
    "# Visit all nodes of the graph to calculate the minimum distance of the graph \n",
    "#         \n",
    "class MrJobGraph70(MRJob):\n",
    "\n",
    "    def configure_options(self):\n",
    "        super(MrJobGraph70, self).configure_options()    \n",
    "    \n",
    "    # key = node, value = {},status\n",
    "    # {} = dictionary of node:distances\n",
    "    # status = one of Q,V,U\n",
    "    def mapper(self, _, line):\n",
    "        q = re.split('\\t',line.strip())\n",
    "        node = q[0].strip('\"')\n",
    "        value = eval(q[1].strip())\n",
    "        neighbors = value[0]\n",
    "        weight = int(value[1])\n",
    "        status = value[2].strip('\"')\n",
    "        path = value[3]\n",
    "        if status == 'Q':\n",
    "            for neighbor in neighbors:\n",
    "                path_to_node = list(path)\n",
    "                path_to_node.append(neighbor)\n",
    "                yield neighbor.strip('\"'), (None, weight+1, 'Q', path_to_node)\n",
    "            # don't forget to yield the updated original node record to V\n",
    "            yield node, (neighbors, weight, 'V', path)\n",
    "        else:\n",
    "            yield node, (neighbors, weight, status, path)\n",
    "        \n",
    "        \n",
    "    # key = node, value=[[neighbors], weight, node status]\n",
    "    # the reducer needs to merge the key, value records\n",
    "    def reducer(self, key, values):\n",
    "        weight = maxint\n",
    "        adj_list = []\n",
    "        path = []\n",
    "        node_status = 'U'\n",
    "        for q in values:\n",
    "            status = q[2].strip()\n",
    "            if status == 'Q':\n",
    "                weight = min(q[1], weight)\n",
    "                node_status = 'Q'\n",
    "                path = q[3]\n",
    "            if status == 'U':\n",
    "                if q[0]:\n",
    "                    for adj_node in q[0]:\n",
    "                        if adj_node not in adj_list:\n",
    "                            adj_list.append(adj_node)\n",
    "            if status == 'V':\n",
    "                node_status = 'V'\n",
    "                yield key, q\n",
    "                break  # do not process more\n",
    "        if node_status != 'V':\n",
    "            # we've processed the list of values for the key and we didn't \n",
    "            # encounter a visited node so emit the combined record\n",
    "            yield key,(adj_list, weight, node_status, path)\n",
    "    \n",
    "\n",
    "    def steps(self):\n",
    "        return [MRStep(mapper=self.mapper,\n",
    "                       reducer=self.reducer)] \n",
    "    \n",
    "if __name__ == '__main__':\n",
    "    MrJobGraph70.run()"
   ]
  },
  {
   "cell_type": "code",
   "execution_count": 65,
   "metadata": {
    "collapsed": false
   },
   "outputs": [
    {
     "name": "stdout",
     "output_type": "stream",
     "text": [
      "Overwriting MrJobTransform.py\n"
     ]
    }
   ],
   "source": [
    "%%writefile MrJobTransform.py\n",
    "from mrjob.job import MRJob\n",
    "from mrjob.step import MRStep\n",
    "from sys import maxint\n",
    "import re\n",
    "#\n",
    "# Take an adjancy matrix for a graph and transform it into priority queue format \n",
    "#         \n",
    "class MrJobTransform(MRJob):\n",
    "\n",
    "    def configure_options(self):\n",
    "        super(MrJobTransform, self).configure_options() \n",
    "        # we need to know what the start node is so we can mark that node with status Q\n",
    "        self.add_passthrough_option(\n",
    "            '--startNode', dest='start_node', default=1, type='str',\n",
    "            help='startNode: label of graph node on which to open the frontier')\n",
    "\n",
    "    \n",
    "    # each line is node \\t {neighbor: weight}\n",
    "    def mapper(self, _, line):\n",
    "        adj_line = re.split('\\t',line.strip())\n",
    "        node = adj_line[0].strip('\"')\n",
    "        neighbors = eval(adj_line[1])\n",
    "        if node == self.options.start_node:\n",
    "            path_to_node = [node]\n",
    "            yield node, (neighbors.keys(), neighbors.keys()[0], 'Q', path_to_node)\n",
    "        else:\n",
    "            yield node, (neighbors.keys(), maxint, 'U', [])\n",
    "        \n",
    "\n",
    "    def steps(self):\n",
    "        return [MRStep(mapper=self.mapper)] \n",
    "    \n",
    "if __name__ == '__main__':\n",
    "    MrJobTransform.run()"
   ]
  },
  {
   "cell_type": "code",
   "execution_count": 67,
   "metadata": {
    "collapsed": false
   },
   "outputs": [],
   "source": [
    "from MrJobTransform import MrJobTransform\n",
    "\n",
    "mr_job = MrJobTransform(args=['Data/directed_toy.txt',\n",
    "                              '--startNode', '2'])\n",
    "\n",
    "with open ('graph.txt','w') as graphFile:\n",
    "    with mr_job.make_runner() as runner:\n",
    "        runner.run()\n",
    "        for line in runner.stream_output():\n",
    "            queue_entry = mr_job.parse_output_line(line)\n",
    "            graphFile.write(line)"
   ]
  },
  {
   "cell_type": "code",
   "execution_count": 81,
   "metadata": {
    "collapsed": false
   },
   "outputs": [
    {
     "name": "stdout",
     "output_type": "stream",
     "text": [
      "Iteration: 1\n",
      "Path from node 2 to node 1 is: ['1']\n"
     ]
    }
   ],
   "source": [
    "from MrJobTransform import MrJobTransform\n",
    "from MrJobGraph70 import MrJobGraph70\n",
    "from sys import maxint\n",
    "from shutil import copy\n",
    "import re\n",
    "\n",
    "def transform(ifname, ofname):\n",
    "    # Read the graph file and create the adjacency list with the distance and status payloads\n",
    "    # graph file has format  node \\t {neighbor dict}  where each item in the dict is neighbor: distance\n",
    "    #\n",
    "    # Transform this structure to node \\t {neighbor dict} \\t status\n",
    "    # The first input line will be assumed to be the start node and therefore be assigned Q status\n",
    "    # all other nodes in the graph will be assigned U status\n",
    "    status = 'Q'\n",
    "    weight = 0\n",
    "    with open(ofname, 'w+') as qFile:\n",
    "        with open(ifname, 'rU') as graphFile:\n",
    "            for line in graphFile.readlines():\n",
    "                adj_list = re.split('\\t',line.strip())\n",
    "                node = adj_list[0].strip()\n",
    "                neighbors = eval(adj_list[1].strip())\n",
    "                value = []\n",
    "                value.append(neighbors.keys())\n",
    "                # we are ignoring the weight in the dictionary for now\n",
    "                value.append(weight)\n",
    "                value.append(status)\n",
    "                if status == 'Q':\n",
    "                    value.append([node])\n",
    "                    status = 'U'\n",
    "                    weight = maxint\n",
    "                else:\n",
    "                    value.append([])\n",
    "\n",
    "                qFile.write('{0}\\t{1}\\n'.format(node, value))\n",
    "\n",
    "# transform the adjacency list into a priority queue list\n",
    "def runTransformJob(ifname,ofname):\n",
    "    mr_job = MrJobTransform(args=[ifname,\n",
    "                                  '--startNode', '1'])\n",
    "\n",
    "    with open (ofname,'w') as graphFile:\n",
    "        with mr_job.make_runner() as runner:\n",
    "            runner.run()\n",
    "            for line in runner.stream_output():\n",
    "                queue_entry = mr_job.parse_output_line(line)\n",
    "                graphFile.write(line)\n",
    "                \n",
    "def runSSSPJob(qfile, start_node, end_node):\n",
    "    mr_job = MrJobGraph70(args=[qfile])\n",
    "\n",
    "    iterations = 0\n",
    "    more_nodes_to_visit = True\n",
    "    while(more_nodes_to_visit):\n",
    "        iterations += 1\n",
    "        print 'Iteration: {0}'.format(iterations)\n",
    "        with open('_queue.txt','w+') as qFile:\n",
    "            with mr_job.make_runner() as runner:\n",
    "                runner.run()\n",
    "                more_nodes_to_visit = False\n",
    "                for line in runner.stream_output():\n",
    "                    q = mr_job.parse_output_line(line)\n",
    "                    qFile.write(line)\n",
    "                    # peek at the q entry status - if one is not visited, keep going\n",
    "                    status = q[1][2]\n",
    "                    if status != 'V':\n",
    "                        more_nodes_to_visit = True\n",
    "                    else:\n",
    "                        # if it is Visited, check to see if this is our end node\n",
    "                        if q[0].strip('\"') == str(end_node):\n",
    "                            print 'Path from node {0} to node {1} is: {2}' \\\n",
    "                                .format(start_node, end_node, q[1][3])\n",
    "                            more_nodes_to_visit = False\n",
    "                            break\n",
    "                    \n",
    "        copy('_queue.txt',qfile)\n",
    "\n",
    "if __name__ == '__main__':\n",
    "#    transform('data/undirected_toy.txt','queue.txt')\n",
    "#    transform('data/directed_toy.txt','queue.txt')\n",
    "    runTransformJob('data/directed_toy.txt','queue.txt')\n",
    "    runSSSPJob('queue.txt', 2, 1)"
   ]
  },
  {
   "cell_type": "code",
   "execution_count": 76,
   "metadata": {
    "collapsed": false
   },
   "outputs": [
    {
     "name": "stdout",
     "output_type": "stream",
     "text": [
      "\"1\"\t[[\"2\", \"6\"], 2, \"V\", [\"1\"]]\r\n",
      "\"2\"\t[[\"1\", \"3\", \"4\"], 3, \"V\", [\"1\", \"2\"]]\r\n",
      "\"3\"\t[[\"2\", \"4\"], 4, \"V\", [\"1\", \"2\", \"3\"]]\r\n",
      "\"4\"\t[[\"2\", \"5\"], 4, \"V\", [\"1\", \"2\", \"4\"]]\r\n",
      "\"5\"\t[[\"1\", \"2\", \"4\"], 5, \"V\", [\"1\", \"2\", \"4\", \"5\"]]\r\n",
      "\"6\"\t[[], 3, \"V\", [\"1\", \"6\"]]\r\n"
     ]
    }
   ],
   "source": [
    "%cat queue.txt"
   ]
  },
  {
   "cell_type": "markdown",
   "metadata": {},
   "source": [
    "## Main dataset 1: NLTK synonyms\n",
    "\n",
    "In the next part of this assignment you will explore a network derived from the NLTK synonym database used for evaluation in HW 5. At a high level, this network is undirected, defined so that there exists link between two nodes/words if the pair or words are a synonym. These data may be found at the location:\n",
    "\n",
    "    s3://ucb-mids-mls-networks/synNet/synNet.txt\n",
    "    s3://ucb-mids-mls-networks/synNet/indices.txt\n",
    "    On under the Data Subfolder for HW7 on Dropbox with the same file names\n",
    "\n",
    "where synNet.txt contains a sparse representation of the network:\n",
    "\n",
    "    (index) \\t (dictionary of links)\n",
    "\n",
    "in indexed form, and indices.txt contains a lookup list\n",
    "\n",
    "    (word) \\t (index)\n",
    "\n",
    "of indices and words. This network is small enough for you to explore and run scripts locally, but will also be good for a systems test (for later) on AWS.\n",
    "\n",
    "In the dictionary, target nodes are keys, link weights are values (here, all weights are 1, i.e., the network is unweighted)."
   ]
  },
  {
   "cell_type": "markdown",
   "metadata": {},
   "source": [
    "## HW 7.1: Exploratory data analysis (NLTK synonyms) \n",
    "\n",
    "Using MRJob, explore the synonyms network data.\n",
    "Consider plotting the degree distribution (does it follow a power law?), and determine some of the key features, like:\n",
    "\n",
    "- number of nodes, \n",
    "- number links,\n",
    "- or the average degree (i.e., the average number of links per node),\n",
    "- etc...\n",
    "\n",
    "As you develop your code, please be sure to run it locally first (though on the whole dataset). Once you have gotten your code to run locally, deploy it on AWS as a systems test in preparation for our next dataset (which will require AWS)."
   ]
  },
  {
   "cell_type": "code",
   "execution_count": 21,
   "metadata": {
    "collapsed": false
   },
   "outputs": [
    {
     "name": "stdout",
     "output_type": "stream",
     "text": [
      "Writing MrJobSynFreq.py\n"
     ]
    }
   ],
   "source": [
    "%%writefile MrJobSynFreq.py\n",
    "\n",
    "from mrjob.job import MRJob\n",
    "from mrjob.step import MRStep\n",
    "import re\n",
    "\n",
    "class MrJobSynFreq(MRJob):\n",
    "    SORT_VALUES = True\n",
    "    \n",
    "    def configure_options(self):\n",
    "        super(MrJobSynFreq, self).configure_options()\n",
    "        self.add_passthrough_option(\n",
    "            '--idxFile', type='string', default=None)\n",
    "\n",
    "    # line is  node \\t dictionary where dictionary entries are {neighbor : weight}\n",
    "    def mapper(self, _, line):\n",
    "        node_entry = re.split('\\t',line.strip())\n",
    "        node = node_entry[0]\n",
    "        neighbors = eval(node_entry[1])\n",
    "        for neighbor in neighbors:\n",
    "            yield neighbor, neighbors[neighbor]\n",
    "            \n",
    "    def reducer_init(self):\n",
    "        self.syn_idx = {}\n",
    "        with open(self.options.idxFile, 'rU') as idxFile:\n",
    "            for line in idxFile.readlines():\n",
    "                idx = re.split('\\t',line.strip())\n",
    "                self.syn_idx[idx[1]]=idx[0]\n",
    "            \n",
    "    \n",
    "    # key=node, values=weights\n",
    "    def reducer(self, key, values):\n",
    "        yield self.syn_idx[key], sum(values)\n",
    "        \n",
    "    def identity_mapper(self, key, value):\n",
    "        yield value, key\n",
    "        \n",
    "    def sorting_reducer(self, _, values):\n",
    "        for value in values:\n",
    "            yield _, value\n",
    "            \n",
    "    def steps(self):\n",
    "        return [MRStep(mapper = self.mapper,\n",
    "                       reducer_init = self.reducer_init,\n",
    "                       reducer = self.reducer),\n",
    "                MRStep(mapper = self.identity_mapper,\n",
    "                       reducer = self.sorting_reducer,\n",
    "                       jobconf={'mapred.output.key.comparator.class':\n",
    "                                'org.apache.hadoop.mapred.lib.KeyFieldBasedComparator',\n",
    "                                'mapred.text.key.comparator.options': '-k1nr -k2',\n",
    "                                })]\n",
    "    \n",
    "if __name__ == \"__main__\":\n",
    "    MrJobSynFreq.run()"
   ]
  },
  {
   "cell_type": "code",
   "execution_count": 22,
   "metadata": {
    "collapsed": false
   },
   "outputs": [],
   "source": [
    "from MrJobSynFreq import MrJobSynFreq\n",
    "\n",
    "infile = '/Users/rcordell/Documents/MIDS/W261/week07/HW7/Data/synNet/synNet.txt'\n",
    "outfile = '/Users/rcordell/Documents/MIDS/W261/week07/HW7/node_counts.txt'\n",
    "idxFile = '/Users/rcordell/Documents/MIDS/W261/week07/HW7/Data/synNet/indices.txt'\n",
    "\n",
    "mr_job = MrJobSynFreq(args = [infile,\n",
    "                                 '-r', 'hadoop',\n",
    "                                 '--idxFile='+idxFile])\n",
    "\n",
    "with open(outfile, 'w') as countFile:\n",
    "    with mr_job.make_runner() as runner:\n",
    "        runner.run()\n",
    "        for line in runner.stream_output():\n",
    "            mr_job.parse_output_line(line)\n",
    "            countFile.write(line)"
   ]
  },
  {
   "cell_type": "code",
   "execution_count": 19,
   "metadata": {
    "collapsed": false
   },
   "outputs": [
    {
     "data": {
      "image/png": "[encoded data removed]",
      "text/plain": [
       "<matplotlib.figure.Figure at 0x110ebea50>"
      ]
     },
     "metadata": {},
     "output_type": "display_data"
    }
   ],
   "source": [
    "import matplotlib.pyplot as plt\n",
    "import re\n",
    "import numpy as np\n",
    "\n",
    "words = []\n",
    "counts = []\n",
    "with open('node_counts.txt','r') as cntFile:\n",
    "    for line in cntFile.readlines():\n",
    "        count, word = re.split('\\t',line.strip())\n",
    "        counts.append(int(count))\n",
    "        words.append(word.strip('\"'))\n",
    "\n",
    "y_pos = np.arange(100)\n",
    "fig = plt.figure(figsize=(16,8))\n",
    "plt.bar(y_pos, counts[:100], align='center', alpha=0.5)\n",
    "plt.xlim(-1,100)\n",
    "plt.xticks(y_pos, words[:100], rotation=90)\n",
    "plt.xlabel('Synonym')\n",
    "plt.title('Synonym Degree Frequency Distribution Top 100')\n",
    "plt.show()"
   ]
  },
  {
   "cell_type": "code",
   "execution_count": 20,
   "metadata": {
    "collapsed": false
   },
   "outputs": [
    {
     "data": {
      "image/png": "[encoded data removed]",
      "text/plain": [
       "<matplotlib.figure.Figure at 0x111c36490>"
      ]
     },
     "metadata": {},
     "output_type": "display_data"
    }
   ],
   "source": [
    "y_pos = np.arange(len(words))\n",
    "fig = plt.figure(figsize=(16,8))\n",
    "plt.bar(y_pos, counts, align='center', alpha=0.5)\n",
    "plt.xlim(-1,len(words))\n",
    "#plt.xticks(y_pos, words[:100], rotation=90)\n",
    "plt.xlabel('Synonym')\n",
    "plt.title('Synonym Degree Frequency Distribution')\n",
    "plt.show()"
   ]
  },
  {
   "cell_type": "code",
   "execution_count": 25,
   "metadata": {
    "collapsed": false
   },
   "outputs": [
    {
     "name": "stdout",
     "output_type": "stream",
     "text": [
      "Number of Nodes: 8271\n",
      "Number of Links: 61134\n",
      "Average Degree:  7.39136742836\n"
     ]
    }
   ],
   "source": [
    "print \"Number of Nodes: {0}\".format(len(words))\n",
    "print \"Number of Links: {0}\".format(sum(counts))\n",
    "print \"Average Degree:  {0}\".format(float(sum(counts))/len(words))"
   ]
  },
  {
   "cell_type": "markdown",
   "metadata": {},
   "source": [
    "## HW 7.2: Shortest path graph distances (NLTK synonyms)\n",
    "\n",
    "Write (reuse your code from 7.0) an MRJob class to find shortest path graph distances, and apply it to the NLTK synonyms network dataset. \n",
    "\n",
    "Proof your code's function by running the job:\n",
    "\n",
    "- shortest path starting at \"walk\" (index=7827) and ending at \"make\" (index=536),\n",
    "\n",
    "and showing you code's output. Once again, your output should include the path and the distance.\n",
    "\n",
    "As you develop your code, please be sure to run it locally first (though on the whole dataset). Once you have gotten your code to run locally, deploy it on AWS as a systems test in preparation for our next dataset (which will require AWS)."
   ]
  },
  {
   "cell_type": "code",
   "execution_count": 100,
   "metadata": {
    "collapsed": false
   },
   "outputs": [
    {
     "name": "stdout",
     "output_type": "stream",
     "text": [
      "Iteration: 1\n",
      "Iteration: 2\n",
      "Iteration: 3\n",
      "Iteration: 4\n",
      "Iteration: 5\n",
      "Iteration: 6\n",
      "Path from node 7827 to node 536 is: ['1', '2', '310', '572', '585', '536']\n"
     ]
    }
   ],
   "source": [
    "from MrJobTransform import MrJobTransform\n",
    "from MrJobGraph70 import MrJobGraph70\n",
    "from sys import maxint\n",
    "from shutil import copy\n",
    "import re\n",
    "\n",
    "def transform(ifname, ofname):\n",
    "    # Read the graph file and create the adjacency list with the distance and status payloads\n",
    "    # graph file has format  node \\t {neighbor dict}  where each item in the dict is neighbor: distance\n",
    "    #\n",
    "    # Transform this structure to node \\t {neighbor dict} \\t status\n",
    "    # The first input line will be assumed to be the start node and therefore be assigned Q status\n",
    "    # all other nodes in the graph will be assigned U status\n",
    "    status = 'Q'\n",
    "    weight = 0\n",
    "    with open(ofname, 'w+') as qFile:\n",
    "        with open(ifname, 'rU') as graphFile:\n",
    "            for line in graphFile.readlines():\n",
    "                adj_list = re.split('\\t',line.strip())\n",
    "                node = adj_list[0].strip()\n",
    "                neighbors = eval(adj_list[1].strip())\n",
    "                value = []\n",
    "                value.append(neighbors.keys())\n",
    "                # we are ignoring the weight in the dictionary for now\n",
    "                value.append(weight)\n",
    "                value.append(status)\n",
    "                if status == 'Q':\n",
    "                    value.append([node])\n",
    "                    status = 'U'\n",
    "                    weight = maxint\n",
    "                else:\n",
    "                    value.append([])\n",
    "\n",
    "                qFile.write('{0}\\t{1}\\n'.format(node, value))\n",
    "\n",
    "# transform the adjacency list into a priority queue list\n",
    "def runTransformJob(ifname,ofname):\n",
    "    mr_job = MrJobTransform(args=[ifname,\n",
    "                                  '-r', 'emr',\n",
    "                                  '--conf-path','mrjob.conf',\n",
    "                                  '--pool-emr-job-flows',\n",
    "                                  '--startNode', '1'])\n",
    "\n",
    "    with open (ofname,'w') as graphFile:\n",
    "        with mr_job.make_runner() as runner:\n",
    "            runner.run()\n",
    "            for line in runner.stream_output():\n",
    "                queue_entry = mr_job.parse_output_line(line)\n",
    "                graphFile.write(line)\n",
    "                \n",
    "def runSSSPJob(qfile, start_node, end_node):\n",
    "    mr_job = MrJobGraph70(args=[qfile, \n",
    "                                '-r', 'emr',\n",
    "                                '--conf-path','mrjob.conf',\n",
    "                                '--pool-emr-job-flows'\n",
    "                               ])\n",
    "\n",
    "    iterations = 0\n",
    "    more_nodes_to_visit = True\n",
    "    while(more_nodes_to_visit):\n",
    "        iterations += 1\n",
    "        print 'Iteration: {0}'.format(iterations)\n",
    "        with open('_queue.txt','w+') as qFile:\n",
    "            with mr_job.make_runner() as runner:\n",
    "                runner.CLEANUP_CHOICES='JOB'\n",
    "                runner.run()\n",
    "                more_nodes_to_visit = False\n",
    "                output_line = None\n",
    "                for line in runner.stream_output():\n",
    "                    q = mr_job.parse_output_line(line)\n",
    "                    qFile.write(line)\n",
    "                    # peek at the q entry status - if one is not visited, keep going\n",
    "                    status = q[1][2]\n",
    "                    if status != 'V':\n",
    "                        more_nodes_to_visit = True\n",
    "                    else:\n",
    "                        # if it is Visited, check to see if this is our end node\n",
    "                        if q[0].strip('\"') == str(end_node):\n",
    "                            output_line = 'Path from node {0} to node {1} is: {2}' \\\n",
    "                                .format(start_node, end_node, q[1][3])\n",
    "                if output_line:\n",
    "                    more_nodes_to_visit = False\n",
    "                    print output_line\n",
    "                    \n",
    "        copy('_queue.txt',qfile)\n",
    "\n",
    "if __name__ == '__main__':\n",
    "#    transform('data/undirected_toy.txt','queue.txt')\n",
    "#    transform('data/directed_toy.txt','queue.txt')\n",
    "    runTransformJob('Data/synNet/synNet.txt','queue.txt')\n",
    "    runSSSPJob('queue.txt', 7827, 536)"
   ]
  },
  {
   "cell_type": "code",
   "execution_count": 96,
   "metadata": {
    "collapsed": false
   },
   "outputs": [
    {
     "name": "stdout",
     "output_type": "stream",
     "text": [
      "Overwriting mrjob.conf\n"
     ]
    }
   ],
   "source": [
    "%%writefile mrjob.conf\n",
    "include: /Users/rcordell/.mrjob.conf\n",
    "runners:\n",
    "    hadoop:\n",
    "        hadoop_home: '/usr/local/Cellar/hadoop/2.7.2/libexec'\n",
    "\n",
    "    emr:\n",
    "        ssh_tunnel_to_job_tracker : true\n",
    "        ec2_instance_type : m1.medium\n",
    "        num_ec2_instances : 1\n",
    "        enable_emr_debugging: true"
   ]
  },
  {
   "cell_type": "markdown",
   "metadata": {},
   "source": [
    "## Main dataset 2: English Wikipedia\n",
    "\n",
    "For the remainder of this assignment you will explore the English Wikipedia hyperlink network.\n",
    "The dataset is built from the Sept. 2015 XML snapshot of English Wikipedia.\n",
    "For this directed network, a link between articles: \n",
    "\n",
    "    A -> B\n",
    "\n",
    "is defined by the existence of a hyperlink in A pointing to B.\n",
    "This network also exists in the indexed format:\n",
    "\n",
    "    Data: s3://ucb-mids-mls-networks/wikipedia/all-pages-indexed-out.txt\n",
    "    Data: s3://ucb-mids-mls-networks/wikipedia/all-pages-indexed-in.txt\n",
    "    Data: s3://ucb-mids-mls-networks/wikipedia/indices.txt\n",
    "    On under the Data Subfolder for HW7 on Dropbox with the same file names\n",
    "\n",
    "but has an index with more detailed data:\n",
    "\n",
    "    (article name) \\t (index) \\t (in degree) \\t (out degree)\n",
    "\n",
    "In the dictionary, target nodes are keys, link weights are values. Here, a weight indicates the number of time a page links to another. However, for the sake of this assignment, treat this an unweighted network, and set all weights to 1 upon data input."
   ]
  },
  {
   "cell_type": "markdown",
   "metadata": {},
   "source": [
    "## HW 7.3: Exploratory data analysis (Wikipedia)\n",
    "\n",
    "Using MRJob, explore the Wikipedia network data on the AWS cloud. Reuse your code from HW 7.1---does is scale well? \n",
    "Be cautioned that Wikipedia is a directed network, where links are not symmetric. \n",
    "So, even though a node may be linked to, it will not appear as a primary record itself if it has no out-links. \n",
    "This means that you may have to ADJUST your code (depending on its design). \n",
    "To be sure of your code's functionality in this context, run a systems test on the directed_toy.txt network."
   ]
  },
  {
   "cell_type": "code",
   "execution_count": 21,
   "metadata": {
    "collapsed": false
   },
   "outputs": [
    {
     "name": "stdout",
     "output_type": "stream",
     "text": [
      "Writing MrJobSynFreq.py\n"
     ]
    }
   ],
   "source": [
    "%%writefile MrJobSynFreq.py\n",
    "\n",
    "from mrjob.job import MRJob\n",
    "from mrjob.step import MRStep\n",
    "import re\n",
    "\n",
    "class MrJobSynFreq(MRJob):\n",
    "    SORT_VALUES = True\n",
    "    \n",
    "    def configure_options(self):\n",
    "        super(MrJobSynFreq, self).configure_options()\n",
    "        self.add_passthrough_option(\n",
    "            '--idxFile', type='string', default=None)\n",
    "\n",
    "    # line is  node \\t dictionary where dictionary entries are {neighbor : weight}\n",
    "    def mapper(self, _, line):\n",
    "        node_entry = re.split('\\t',line.strip())\n",
    "        node = node_entry[0]\n",
    "        neighbors = eval(node_entry[1])\n",
    "        for neighbor in neighbors:\n",
    "            yield neighbor, neighbors[neighbor]\n",
    "            \n",
    "    def reducer_init(self):\n",
    "        self.syn_idx = {}\n",
    "        with open(self.options.idxFile, 'rU') as idxFile:\n",
    "            for line in idxFile.readlines():\n",
    "                idx = re.split('\\t',line.strip())\n",
    "                self.syn_idx[idx[1]]=idx[0]\n",
    "            \n",
    "    \n",
    "    # key=node, values=weights\n",
    "    def reducer(self, key, values):\n",
    "        yield self.syn_idx[key], sum(values)\n",
    "        \n",
    "    def identity_mapper(self, key, value):\n",
    "        yield value, key\n",
    "        \n",
    "    def sorting_reducer(self, _, values):\n",
    "        for value in values:\n",
    "            yield _, value\n",
    "            \n",
    "    def steps(self):\n",
    "        return [MRStep(mapper = self.mapper,\n",
    "                       reducer_init = self.reducer_init,\n",
    "                       reducer = self.reducer),\n",
    "                MRStep(mapper = self.identity_mapper,\n",
    "                       reducer = self.sorting_reducer,\n",
    "                       jobconf={'mapred.output.key.comparator.class':\n",
    "                                'org.apache.hadoop.mapred.lib.KeyFieldBasedComparator',\n",
    "                                'mapred.text.key.comparator.options': '-k1nr -k2',\n",
    "                                })]\n",
    "    \n",
    "if __name__ == \"__main__\":\n",
    "    MrJobSynFreq.run()"
   ]
  },
  {
   "cell_type": "code",
   "execution_count": 22,
   "metadata": {
    "collapsed": false
   },
   "outputs": [],
   "source": [
    "from MrJobSynFreq import MrJobSynFreq\n",
    "\n",
    "infile = '/Users/rcordell/Documents/MIDS/W261/week07/HW7/Data/synNet/synNet.txt'\n",
    "outfile = '/Users/rcordell/Documents/MIDS/W261/week07/HW7/node_counts.txt'\n",
    "idxFile = '/Users/rcordell/Documents/MIDS/W261/week07/HW7/Data/synNet/indices.txt'\n",
    "\n",
    "mr_job = MrJobSynFreq(args = [infile,\n",
    "                                 '-r', 'hadoop',\n",
    "                                 '--idxFile='+idxFile])\n",
    "\n",
    "with open(outfile, 'w') as countFile:\n",
    "    with mr_job.make_runner() as runner:\n",
    "        runner.run()\n",
    "        for line in runner.stream_output():\n",
    "            mr_job.parse_output_line(line)\n",
    "            countFile.write(line)"
   ]
  },
  {
   "cell_type": "markdown",
   "metadata": {},
   "source": [
    "## HW 7.4: Shortest path graph distances (Wikipedia)\n",
    "\n",
    "Using MRJob, find shortest path graph distances in the Wikipedia network on the AWS cloud.\n",
    "Reuse your code from 7.2, but once again be warned of Wikipedia being a directed network.\n",
    "To be sure of your code's functionality in this context, run a systems test on the directed_toy.txt network.\n",
    "\n",
    "When running your code on the Wikipedia network, proof its function by running the job:\n",
    "\n",
    "- shortest path from \"Ireland\" (index=6176135) to \"University of California, Berkeley\" (index=13466359),\n",
    "\n",
    "and show your code's output. Show the shortest path in terms of just page IDS but also in terms of the name of page (show of your MapReduce join skills!!)\n",
    "\n",
    "Once your code is running, find some other shortest paths and report your results."
   ]
  },
  {
   "cell_type": "markdown",
   "metadata": {},
   "source": [
    "## HW 7.5: Conceptual exercise: Largest single-source network distances\n",
    "\n",
    "Suppose you wanted to find the largest network distance from a single source,\n",
    "i.e., a node that is the furthest (but still reachable) from a single source.\n",
    "\n",
    "How would you implement this task? \n",
    "How is this different from finding the shortest path graph distances?\n",
    "\n",
    "Is this task more difficult to implement than the shortest path distance?\n",
    "\n",
    "As you respond, please comment on program structure, runtimes, iterations, general system requirements, etc..."
   ]
  },
  {
   "cell_type": "markdown",
   "metadata": {},
   "source": [
    "## HW 7.6: Computational exercise: Largest single-source network distances (optional)\n",
    "\n",
    "Using MRJob, write a code to find the largest graph distance and distance-maximizing nodes from a single-source.\n",
    "Test your code first on the toy networks and synonyms network to proof its function.\n",
    "\n",
    "==================END HW 7==================\n",
    "============================================"
   ]
  },
  {
   "cell_type": "code",
   "execution_count": null,
   "metadata": {
    "collapsed": true
   },
   "outputs": [],
   "source": []
  }
 ],
 "metadata": {
  "kernelspec": {
   "display_name": "Python 2",
   "language": "python",
   "name": "python2"
  },
  "language_info": {
   "codemirror_mode": {
    "name": "ipython",
    "version": 2
   },
   "file_extension": ".py",
   "mimetype": "text/x-python",
   "name": "python",
   "nbconvert_exporter": "python",
   "pygments_lexer": "ipython2",
   "version": "2.7.11"
  }
 },
 "nbformat": 4,
 "nbformat_minor": 0
}
